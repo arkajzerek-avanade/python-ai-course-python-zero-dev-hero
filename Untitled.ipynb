{
 "cells": [
  {
   "cell_type": "markdown",
   "id": "0d65eaa5-546f-4543-8cea-4e9b611286fc",
   "metadata": {
    "editable": true,
    "slideshow": {
     "slide_type": "slide"
    },
    "tags": []
   },
   "source": [
    "## First slide"
   ]
  },
  {
   "cell_type": "markdown",
   "id": "2cc1b37d-df69-46e8-8c08-d5e3bef08478",
   "metadata": {
    "editable": true,
    "slideshow": {
     "slide_type": "slide"
    },
    "tags": []
   },
   "source": [
    "## Second slide"
   ]
  }
 ],
 "metadata": {
  "kernelspec": {
   "display_name": "Python 3 (ipykernel)",
   "language": "python",
   "name": "python3"
  },
  "language_info": {
   "codemirror_mode": {
    "name": "ipython",
    "version": 3
   },
   "file_extension": ".py",
   "mimetype": "text/x-python",
   "name": "python",
   "nbconvert_exporter": "python",
   "pygments_lexer": "ipython3",
   "version": "3.13.3"
  }
 },
 "nbformat": 4,
 "nbformat_minor": 5
}
