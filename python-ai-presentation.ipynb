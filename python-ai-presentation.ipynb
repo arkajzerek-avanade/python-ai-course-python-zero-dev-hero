{
 "cells": [
  {
   "cell_type": "markdown",
   "id": "c60bc09a-d551-4d42-b673-3d69c0918157",
   "metadata": {
    "editable": true,
    "slideshow": {
     "slide_type": "slide"
    },
    "tags": []
   },
   "source": [
    "# Python Development Workflow: From Python Zero to Dev Hero!\n",
    "\n",
    "Date: May 22, 2025"
   ]
  },
  {
   "cell_type": "markdown",
   "id": "7b8f92c4",
   "metadata": {
    "editable": true,
    "slideshow": {
     "slide_type": "skip"
    },
    "tags": []
   },
   "source": [
    "## Table of Contents\n",
    "1. Course Overview\n",
    "2. Learning Path and Progression\n",
    "3. Environment Setup\n",
    "4. Project Setup with Dependencies\n",
    "5. IDE Configuration\n",
    "6. GitHub Copilot Integration\n",
    "7. Data Analysis with Jupyter\n",
    "8. Web Scraping for Data Collection\n",
    "9. API Development with FastAPI\n",
    "10. Containerized Development\n",
    "11. Cloud Deployment to Azure\n",
    "12. Azure OpenAI Integration\n",
    "13. Custom MCP Server Development\n",
    "14. Workspace Analysis Tool\n",
    "15. Git Integration for MCP\n",
    "16. Conclusion and Next Steps\n",
    "17. Resources and References"
   ]
  },
  {
   "cell_type": "markdown",
   "id": "3d5b7bcf",
   "metadata": {
    "editable": true,
    "slideshow": {
     "slide_type": "slide"
    },
    "tags": []
   },
   "source": [
    "## 1. Course Overview\n",
    "\n",
    "### Python Development Workflow: From Python Zero to Dev Hero!\n",
    "\n",
    "- A progressive learning path for modern Python development\n",
    "- From environment setup to cloud deployment\n",
    "- Copilot update\n",
    "- Integrating AI tools and capabilities\n",
    "- Target audience: Developers/Testers transitioning to Python with some programming experience\n",
    "  "
   ]
  },
  {
   "cell_type": "markdown",
   "id": "ad46246f",
   "metadata": {
    "editable": true,
    "slideshow": {
     "slide_type": "slide"
    },
    "tags": []
   },
   "source": [
    "## 2. Learning Path and Progression\n",
    "\n",
    "### Learning Path Journey\n",
    "\n",
    "1. **Foundation (Tasks 1-3):** \n",
    "   - Python environment\n",
    "   - Project setup\n",
    "   - IDE configuration\n",
    "\n",
    "2. **Developer Productivity (Task 4):** \n",
    "   - AI-assisted coding with GitHub Copilot\n",
    "\n",
    "3. **Data Handling (Tasks 5-6):** \n",
    "   - Jupyter notebooks\n",
    "   - Web scraping\n",
    "\n",
    "4. **API Development (Task 7-8):** \n",
    "   - Creating APIs with FastAPI and APIFlask\n",
    "\n",
    "5. **Containerization (Task 8):** \n",
    "   - Dev containers and Docker\n",
    "\n",
    "6. **Cloud Deployment (Tasks 7-10):** \n",
    "   - Azure Functions\n",
    "   - Azure Container Instances\n",
    "\n",
    "7. **Advanced AI Integration (Tasks 11-13):** \n",
    "   - Custom MCP servers and tools"
   ]
  },
  {
   "cell_type": "markdown",
   "id": "869d712f",
   "metadata": {
    "editable": true,
    "slideshow": {
     "slide_type": "slide"
    },
    "tags": []
   },
   "source": [
    "## 3. Environment Setup\n",
    "\n",
    "### Installing Python Environment\n",
    "\n",
    "#### Key Components\n",
    "- Python 3.11 installation and version management\n",
    "- UV package manager: A modern alternative to pip\n",
    "- Installing specific Python versions\n",
    "- Benefits of UV: Faster package installation, better dependency resolution\n",
    "- Azure Functions compatibility considerations"
   ]
  },
  {
   "cell_type": "markdown",
   "id": "78ffe558",
   "metadata": {},
   "source": [
    "### PIP"
   ]
  },
  {
   "cell_type": "code",
   "execution_count": 5,
   "id": "18e00a15",
   "metadata": {},
   "outputs": [
    {
     "name": "stdout",
     "output_type": "stream",
     "text": [
      "Current Python version: 3.13.3 (tags/v3.13.3:6280bb5, Apr  8 2025, 14:47:33) [MSC v.1943 64 bit (AMD64)]\n"
     ]
    }
   ],
   "source": [
    "# Python Installation Options (commands would be run in a terminal):\n",
    "\n",
    "# Option 1: Direct Download Installation\n",
    "# Download from python.org and install manually\n",
    "# Visit https://www.python.org/downloads/ to download Python 3.11\n",
    "\n",
    "# Option 2: Using package managers\n",
    "\n",
    "# Windows (using winget):\n",
    "# winget install -e --id Python.Python.3.11\n",
    "\n",
    "# macOS (using Homebrew):\n",
    "# brew install python@3.11\n",
    "\n",
    "# Linux (Ubuntu/Debian):\n",
    "# sudo apt update\n",
    "# sudo apt install python3.11 python3.11-venv python3.11-dev\n",
    "\n",
    "# Creating virtual environment (traditional approach)\n",
    "# python -m venv .venv\n",
    "# Activate virtual environment:\n",
    "# Windows: .venv\\Scripts\\activate.venv\\Scripts\\activate\n",
    "# Linux/macOS: source .venv/bin/activate\n",
    "\n",
    "# Installing specific Python version (alternative approach without UV)\n",
    "# For Windows:\n",
    "# py -3.11 -m venv .venv\n",
    "\n",
    "# For Linux/macOS:\n",
    "# python3.11 -m venv .venv\n",
    "\n",
    "# Note: This requires that Python 3.11 is already installed on your system\n",
    "\n",
    "# Verify Python installation:\n",
    "# python --version\n",
    "\n",
    "# Current Python version in this notebook\n",
    "import sys\n",
    "print(f\"Current Python version: {sys.version}\")\n"
   ]
  },
  {
   "cell_type": "markdown",
   "id": "fe18050c",
   "metadata": {},
   "source": [
    "### UV"
   ]
  },
  {
   "cell_type": "code",
   "execution_count": 6,
   "id": "321947cb",
   "metadata": {
    "editable": true,
    "slideshow": {
     "slide_type": "slide"
    },
    "tags": []
   },
   "outputs": [
    {
     "name": "stdout",
     "output_type": "stream",
     "text": [
      "Current Python version: 3.13.3 (tags/v3.13.3:6280bb5, Apr  8 2025, 14:47:33) [MSC v.1943 64 bit (AMD64)]\n"
     ]
    }
   ],
   "source": [
    "# Demo: Installing UV Package Manager\n",
    "# The following commands would be run in a terminal:\n",
    "\n",
    "# Windows\n",
    "# winget install --id=astral-sh.uv -e\n",
    "\n",
    "# Linux\n",
    "# curl -LsSf https://astral.sh/uv/install.sh | sh\n",
    "\n",
    "# Install Python version\n",
    "# uv python install 3.11\n",
    "\n",
    "# Just to show Python version in the notebook\n",
    "import sys\n",
    "print(f\"Current Python version: {sys.version}\")"
   ]
  },
  {
   "cell_type": "markdown",
   "id": "24568f3a",
   "metadata": {
    "editable": true,
    "slideshow": {
     "slide_type": "slide"
    },
    "tags": []
   },
   "source": [
    "#### Resources\n",
    "- [UV Package Manager](https://astral.sh/uv)\n",
    "- [UV Installation Documentation](https://docs.astral.sh/uv/getting-started/installation/)\n",
    "- [Python Virtual Environments](https://docs.python.org/3/tutorial/venv.html)\n"
   ]
  },
  {
   "cell_type": "markdown",
   "id": "55d08ced",
   "metadata": {
    "editable": true,
    "slideshow": {
     "slide_type": ""
    },
    "tags": []
   },
   "source": [
    "## 4. Project Setup with Dependencies\n",
    "\n",
    "### Setting Up Python Projects"
   ]
  },
  {
   "cell_type": "code",
   "execution_count": 7,
   "id": "67387a54",
   "metadata": {
    "editable": true,
    "slideshow": {
     "slide_type": "slide"
    },
    "tags": []
   },
   "outputs": [
    {
     "name": "stdout",
     "output_type": "stream",
     "text": [
      "Installed packages:\n",
      "- anyio 4.9.0\n",
      "- argon2-cffi 23.1.0\n",
      "- argon2-cffi-bindings 21.2.0\n",
      "- arrow 1.3.0\n",
      "- asttokens 3.0.0\n",
      "- async-lru 2.0.5\n",
      "- attrs 25.3.0\n",
      "- autocommand 2.2.2\n",
      "- babel 2.17.0\n",
      "- backports.tarfile 1.2.0\n",
      "...\n"
     ]
    },
    {
     "name": "stderr",
     "output_type": "stream",
     "text": [
      "C:\\Users\\arkadiusz.kajzerek\\AppData\\Local\\Temp\\ipykernel_43460\\1207523694.py:18: DeprecationWarning: pkg_resources is deprecated as an API. See https://setuptools.pypa.io/en/latest/pkg_resources.html\n",
      "  import pkg_resources\n"
     ]
    }
   ],
   "source": [
    "# Demo: Project Initialization\n",
    "# Commands for terminal:\n",
    "\n",
    "# Project initialization\n",
    "# uv init project-name           # Creates a standard project structure\n",
    "# uv init --bare project-name    # Creates minimal project structure without templates\n",
    "\n",
    "# Virtual Environment Management\n",
    "# python -m venv .venv\n",
    "\n",
    "# Windows\n",
    "# .venv\\Scripts\\activate\n",
    "\n",
    "# Linux/Mac\n",
    "# source .venv/bin/activate\n",
    "\n",
    "# Show installed packages\n",
    "import pkg_resources\n",
    "installed_packages = sorted([f\"{pkg.key} {pkg.version}\" for pkg in pkg_resources.working_set])\n",
    "print(\"Installed packages:\")\n",
    "for pkg in installed_packages[:10]:  # Show first 10 packages\n",
    "    print(f\"- {pkg}\")\n",
    "print(\"...\")"
   ]
  },
  {
   "cell_type": "markdown",
   "id": "06e707b2",
   "metadata": {
    "editable": true,
    "slideshow": {
     "slide_type": ""
    },
    "tags": []
   },
   "source": [
    "#### Key Concepts\n",
    "- Project initialization with proper structure\n",
    "- Virtual environment creation and management\n",
    "- Dependency management approaches\n",
    "  - UV-based workflow with pyproject.toml\n",
    "  - Traditional requirements.txt approach\n",
    "- Running your first application\n",
    "\n",
    "#### Resources\n",
    "- [Python Project Structure Guide](https://docs.python-guide.org/writing/structure/)\n",
    "- [UV Project Setup](https://astral.sh/uv/docs/init)\n",
    "- [TOML format specification](https://toml.io/en/)"
   ]
  },
  {
   "cell_type": "markdown",
   "id": "794af659",
   "metadata": {},
   "source": [
    "## 5. IDE Configuration\n",
    "\n",
    "### Configuring Your Development Environment\n",
    "\n",
    "#### Essential Components\n",
    "- VS Code setup for Python development\n",
    "- Essential VS Code extensions:\n",
    "  - Python extension by Microsoft\n",
    "  - Pylance for enhanced language support\n",
    "  - Jupyter for notebook integration\n",
    "- Configuring the Python interpreter\n",
    "- Setting up debugging\n",
    "- VS Code vs. alternatives (PyCharm, IDLE, Rider)\n",
    "\n",
    "#### Resources\n",
    "- [VS Code Python Tutorial](https://code.visualstudio.com/docs/python/python-tutorial)\n",
    "- [Python Debugging in VS Code](https://code.visualstudio.com/docs/python/debugging)\n",
    "- [VS Code Extensions Marketplace](https://marketplace.visualstudio.com/vscode)\n",
    "- [PyCharm Download](https://www.jetbrains.com/pycharm/download/)"
   ]
  },
  {
   "cell_type": "markdown",
   "id": "217196c2",
   "metadata": {},
   "source": [
    "## 6. GitHub Copilot Integration\n",
    "\n",
    "### Supercharging Development with GitHub Copilot\n",
    "\n",
    "#### Features and Capabilities\n",
    "- Installing and configuring GitHub Copilot\n",
    "- Interaction modes:\n",
    "  - [Ask](https://code.visualstudio.com/docs/copilot/chat/chat-ask-mode) - chat with your code, get understanding, advice\n",
    "  - [Edit](https://code.visualstudio.com/docs/copilot/chat/copilot-edits) - apply code edits, fix a bug, refactor\n",
    "  - [Agent](https://code.visualstudio.com/docs/copilot/chat/chat-agent-mode) - autonomously implement features, involve agents"
   ]
  },
  {
   "cell_type": "code",
   "execution_count": 8,
   "id": "aff78526",
   "metadata": {},
   "outputs": [],
   "source": [
    "# Demo: GitHub Copilot in action\n",
    "\n",
    "# Using Copilot to generate a function to calculate Fibonacci numbers\n"
   ]
  },
  {
   "cell_type": "markdown",
   "id": "30f49629",
   "metadata": {},
   "source": [
    "#### Advanced Usage\n",
    "- Context modifiers:\n",
    "  - #tool_name for specific tools\n",
    "  - #file or #folder for file context\n",
    "  - @terminal for terminal interactions\n",
    "- Specialized commands: /fix, /explain\n",
    "- Choose models:\n",
    "  - [GPT-4.1](https://docs.github.com/en/copilot/using-github-copilot/ai-models/choosing-the-right-ai-model-for-your-task#use-cases)\n",
    "  - [GPT-4o](https://docs.github.com/en/copilot/using-github-copilot/ai-models/choosing-the-right-ai-model-for-your-task#use-cases-1)\n",
    "  - [o1](https://docs.github.com/en/copilot/using-github-copilot/ai-models/choosing-the-right-ai-model-for-your-task#use-cases-3)\n",
    "  - [Claude 3.7 Sonnet](https://docs.github.com/en/copilot/using-github-copilot/ai-models/choosing-the-right-ai-model-for-your-task#use-cases-8)\n",
    "- Custom instructions for project-specific guidance\n",
    "\n",
    "#### Resources\n",
    "- [GitHub Copilot Documentation](https://docs.github.com/en/copilot)\n",
    "- [Prompt Engineering Guide](https://code.visualstudio.com/docs/copilot/chat/prompt-crafting)\n",
    "- [Chat modes](https://code.visualstudio.com/docs/copilot/chat/copilot-chat)\n",
    "- [Chat models](https://docs.github.com/en/copilot/using-github-copilot/ai-models/choosing-the-right-ai-model-for-your-task)\n",
    "- [Custom Instruction Files](https://code.visualstudio.com/docs/copilot/copilot-customization#_instruction-files)"
   ]
  },
  {
   "cell_type": "markdown",
   "id": "25d4c086",
   "metadata": {},
   "source": [
    "## 7. Data Analysis with Jupyter\n",
    "\n",
    "### Working with Data in Jupyter Notebooks"
   ]
  },
  {
   "cell_type": "markdown",
   "id": "dbd8146c",
   "metadata": {
    "vscode": {
     "languageId": "bat"
    }
   },
   "source": [
    "##### Set up using uv - ~12 seconds\n",
    "\n",
    "```bash\n",
    "uv init --bare jupyter-project\n",
    "cd jupyter-project\n",
    "uv add jupyterlab\n",
    ".\\.venv\\Scripts\\activate\n",
    "jupyter notebook\n",
    "```\n",
    "\n",
    "##### Set up using pip - ~90 seconds\n",
    "\n",
    "```bash\n",
    "py -3.11 -m venv .venv\n",
    ".\\.venv\\Scripts\\activate\n",
    "jupyter notebook\n",
    "```"
   ]
  },
  {
   "cell_type": "code",
   "execution_count": null,
   "id": "eef1e718",
   "metadata": {},
   "outputs": [],
   "source": [
    "# Demo: Data Analysis with Pandas and Matplotlib\n",
    "\n",
    "# Install needed packages (if not already installed)\n",
    "# %pip install pandas matplotlib seaborn\n",
    "\n",
    "import pandas as pd\n",
    "import matplotlib.pyplot as plt\n",
    "import seaborn as sns\n",
    "import numpy as np\n",
    "\n",
    "# Create sample data\n",
    "np.random.seed(42)\n",
    "data = pd.DataFrame({\n",
    "    'Category': np.random.choice(['A', 'B', 'C', 'D'], 100),\n",
    "    'Value': np.random.normal(0, 1, 100),\n",
    "    'Size': np.random.randint(10, 100, 100)\n",
    "})\n",
    "\n",
    "# Display the first few rows\n",
    "print(\"Sample data:\")\n",
    "display(data.head())\n",
    "\n",
    "# Create a visualization\n",
    "plt.figure(figsize=(10, 6))\n",
    "sns.boxplot(x='Category', y='Value', data=data)\n",
    "plt.title('Value Distribution by Category')\n",
    "plt.show()\n",
    "\n",
    "# Another visualization\n",
    "plt.figure(figsize=(10, 6))\n",
    "sns.scatterplot(x='Value', y='Size', hue='Category', data=data)\n",
    "plt.title('Value vs Size by Category')\n",
    "plt.show()"
   ]
  },
  {
   "cell_type": "markdown",
   "id": "2aa20f4d",
   "metadata": {},
   "source": [
    "#### Key Features\n",
    "- Jupyter Notebooks setup and configuration\n",
    "    - uv\n",
    "    - pip\n",
    "- VS Code Jupyter extension integration\n",
    "- Cell execution and data manipulation\n",
    "- Visualizing results with matplotlib/seaborn\n",
    "\n",
    "#### Resources\n",
    "- [Jupyter Notebook Documentation](https://jupyter-notebook.readthedocs.io/en/stable/)\n",
    "- [Pandas Documentation](https://pandas.pydata.org/docs/)\n",
    "- [VS Code Jupyter Extension](https://marketplace.visualstudio.com/items?itemName=ms-toolsai.jupyter)"
   ]
  },
  {
   "cell_type": "markdown",
   "id": "9a1dd851",
   "metadata": {},
   "source": [
    "## 8. Web Scraping for Data Collection\n",
    "\n",
    "### Building a Web Scraper with Selenium"
   ]
  },
  {
   "cell_type": "code",
   "execution_count": null,
   "id": "f074fa3a",
   "metadata": {},
   "outputs": [],
   "source": [
    "# Demo: Web Scraping with Selenium (code example)\n",
    "\n",
    "# Required packages:\n",
    "# %pip install selenium\n",
    "\n",
    "from selenium import webdriver\n",
    "from selenium.webdriver.common.by import By\n",
    "from selenium.webdriver.chrome.service import Service\n",
    "from selenium.webdriver.chrome.options import Options\n",
    "import time\n",
    "\n",
    "def scrape_example():\n",
    "    \"\"\"Example function demonstrating Selenium setup and basic usage\"\"\"\n",
    "    # Set up Chrome options\n",
    "    chrome_options = Options()\n",
    "    chrome_options.add_argument(\"--headless\")  # Run in headless mode\n",
    "    \n",
    "    # Code for actual web scraping would go here\n",
    "    # This is just a demonstration of the setup\n",
    "    \n",
    "    print(\"Web scraper would:\")\n",
    "    print(\"1. Navigate to target website\")\n",
    "    print(\"2. Find elements using selectors\")\n",
    "    print(\"3. Extract data from elements\")\n",
    "    print(\"4. Process and store the data\")\n",
    "    print(\"5. Handle pagination if needed\")\n",
    "\n",
    "# Call the function\n",
    "scrape_example()"
   ]
  },
  {
   "cell_type": "markdown",
   "id": "7aea17e0",
   "metadata": {},
   "source": [
    "#### Key Components\n",
    "- Browser configuration (Chrome WebDriver)\n",
    "- Main scraping techniques:\n",
    "  - Site navigation\n",
    "  - Element selection\n",
    "  - Content extraction\n",
    "  - Authentication handling\n",
    "  - Screenshot capture\n",
    "\n",
    "\n",
    "#### Resources\n",
    "- [Selenium Python Documentation](https://selenium-python.readthedocs.io/)\n",
    "- [Chrome WebDriver](https://chromedriver.chromium.org/getting-started)"
   ]
  },
  {
   "cell_type": "markdown",
   "id": "268ac270",
   "metadata": {},
   "source": [
    "# 9. Python vs .NET C# Feature Comparison\n",
    "\n",
    "| Feature/Concept | Python | .NET |\n",
    "|---|---|---|\n",
    "| **Compilation** | Interpreted (bytecode) | Compiled to IL, then JIT |\n",
    "| **Performance** | Generally slower | Generally faster |\n",
    "| **Type Safety** | Runtime type checking | Compile-time type checking |\n",
    "| **IDE Support** | Good with type hints | Excellent with IntelliSense |\n",
    "| **Class Declaration** | `class MyClass:` | `public class MyClass` |\n",
    "| **Constructor** | `__init__(self, args)` | `public MyClass(args)` |\n",
    "| **Access Modifiers** | Convention-based (`_private`, `__mangled`) | True modifiers (`public`, `private`, `protected`, `internal`) |\n",
    "| **Inheritance** | Multiple inheritance supported | Single inheritance + interfaces |\n",
    "| **Method Overriding** | Automatic (duck typing) | Explicit (`virtual`/`override` keywords) |\n",
    "| **Abstract Classes** | `abc.ABC` with `@abstractmethod` | `abstract class` with `abstract` methods |\n",
    "| **Interfaces** | No separate concept (use protocols/ABC) | Dedicated `interface` keyword |\n",
    "| **Properties** | `@property` decorator | Built-in `get`/`set` syntax |\n",
    "| **Static Methods** | `@staticmethod` decorator | `static` keyword |\n",
    "| **Class Methods** | `@classmethod` decorator | `static` methods with class context |\n",
    "| **Polymorphism** | Duck typing (implicit) | Interface/inheritance-based (explicit) |\n",
    "| **Encapsulation** | Naming conventions only | True access control |\n",
    "| **Exception Handling** | `try/except/else/finally` | `try/catch/finally` |\n",
    "| **Operator Overloading** | Magic methods (`__add__`, `__str__`) | Operator overloading keywords |\n",
    "| **Reflection** | Extensive (`getattr`, `hasattr`, `dir`) | `System.Reflection` namespace |\n",
    "| **Dynamic Modification** | Classes/objects modifiable at runtime | Limited runtime modification |\n",
    "| **Context Managers** | `with` statement, `__enter__`/`__exit__` | `using` statement, `IDisposable` |\n",
    "| **Decorators** | `@decorator` syntax | Attributes `[Attribute]` |\n",
    "| **Extension Methods** | Monkey patching | `static` extension methods |\n",
    "| **Nullable Types** | Everything nullable by default | `int?` syntax for value types |\n",
    "| **LINQ** | List comprehensions, generators | Language-integrated queries |"
   ]
  },
  {
   "cell_type": "markdown",
   "id": "bf7b0a6a",
   "metadata": {},
   "source": [
    "## 10. API Development with FastAPI\n",
    "\n",
    "### Creating Modern APIs with FastAPI"
   ]
  },
  {
   "cell_type": "markdown",
   "id": "1ad08727",
   "metadata": {},
   "source": [
    "#### Setup for Azure Functions\n",
    "\n",
    "```bash\n",
    "winget install Microsoft.AzureCLI\n",
    "winget install Microsoft.Azd\n",
    "winget install Microsoft.Azure.FunctionsCoreTools\n",
    "```\n",
    "\n",
    "#### Project Creation\n",
    "\n",
    "```bash\n",
    "azd init -t fastapi-on-azure-functions\n",
    "func host start\n",
    "```\n",
    "\n",
    "#### Key Features\n",
    "- FastAPI advantages: speed, automatic docs, type validation\n",
    "- Creating a FastAPI project with Azure Functions\n",
    "- Testing endpoints locally\n",
    "- Swagger documentation\n",
    "- RESTful API design principles\n",
    "\n",
    "#### Resources\n",
    "- [FastAPI Documentation](https://fastapi.tiangolo.com/)\n",
    "- [Azure Functions Python Guide](https://learn.microsoft.com/en-us/azure/azure-functions/functions-reference-python)\n",
    "- [Azure Developer CLI](https://learn.microsoft.com/en-us/azure/developer/azure-developer-cli/)\n",
    "- [Azure-Samples FastAPI Template](https://github.com/Azure-Samples/fastapi-on-azure-functions)\n",
    "- [Azure Functions Core Tools](https://github.com/Azure/azure-functions-core-tools)\n",
    "- [Python API Accelerator](https://dev.azure.com/AvanadeXPolandTrainingHub/Python%20API%20Accelerator)"
   ]
  },
  {
   "cell_type": "markdown",
   "id": "e07d110d",
   "metadata": {},
   "source": [
    "## 11. Containerized Development\n",
    "\n",
    "### Containerizing Development Environments\n",
    "\n",
    "```bash\n",
    "wsl --install -d Ubuntu\n",
    "\n",
    "# install Docker or equivalent\n",
    "\n",
    "mkdir fastapi-project`\n",
    "cd fastapi-project`\n",
    "azd init -t flask-charts-api-container-app`\n",
    "\n",
    "# open workspace within container\n",
    "\n",
    "# continue work in contenerized environment\n",
    "\n",
    "```\n",
    "\n",
    "#### Key Concepts\n",
    "- Benefits of containerization: consistency, portability, isolation\n",
    "- Setting up WSL and Docker\n",
    "- Creating VS Code Dev Containers\n",
    "- Command Palette: \"Dev Containers: New Dev Container...\"\n",
    "- Selecting Python 3 template\n",
    "- Adding required features\n",
    "- Integrating Azure CLI tools in containers\n",
    "- Running applications within containers\n",
    "- Git integration\n",
    "\n",
    "#### Resources\n",
    "- [WSL Installation Guide](https://learn.microsoft.com/en-us/windows/wsl/install)\n",
    "- [Rancher Desktop](https://rancherdesktop.io/)\n",
    "- [VS Code Dev Containers](https://code.visualstudio.com/docs/devcontainers/containers)\n",
    "- [Docker Documentation](https://docs.docker.com/)\n",
    "- [Dev Container Templates](https://github.com/devcontainers/templates)"
   ]
  },
  {
   "cell_type": "markdown",
   "id": "9622280f",
   "metadata": {},
   "source": [
    "## 12. Cloud Deployment to Azure\n",
    "\n",
    "### Deploying Python Applications to Azure"
   ]
  },
  {
   "cell_type": "markdown",
   "id": "eaa8acbf",
   "metadata": {},
   "source": [
    "#### Deployment Process using AZD\n",
    "\n",
    "```bash\n",
    "azd auth login\n",
    "azd provision\n",
    "azd deploy\n",
    "```\n",
    "\n",
    "#### Key Concepts\n",
    "- Azure deployment options for Python applications\n",
    "- Azure Functions vs Container Apps\n",
    "- Verifying deployment in Azure Portal\n",
    "- Testing deployed endpoints\n",
    "- Monitoring and troubleshooting\n",
    "- Creating repeatable deployment processes\n",
    "\n",
    "#### Resources\n",
    "- [Azure Functions Deployment](https://learn.microsoft.com/en-us/azure/azure-functions/functions-deployment-technologies)\n",
    "- [Azure Developer CLI Deployment](https://learn.microsoft.com/en-us/azure/developer/azure-developer-cli/deploy-to-azure)"
   ]
  },
  {
   "cell_type": "markdown",
   "id": "1039f97d",
   "metadata": {},
   "source": [
    "## 13. Azure OpenAI Integration\n",
    "\n",
    "### Building AI Applications with Azure OpenAI"
   ]
  },
  {
   "cell_type": "code",
   "execution_count": 37,
   "id": "1087e0d4",
   "metadata": {},
   "outputs": [],
   "source": [
    "# Demo: Azure OpenAI Integration\n",
    "\n",
    "# Import necessary libraries\n",
    "import os\n",
    "from dotenv import load_dotenv\n",
    "import openai\n",
    "from openai import AzureOpenAI\n",
    "\n",
    "def azure_openai_demo():\n",
    "    print(\"Azure OpenAI Integration Demo\")\n",
    "    \n",
    "    # Load .env file\n",
    "    env_path = os.path.join(os.path.dirname(os.path.abspath(\"__file__\")), \".env\")\n",
    "    load_dotenv(env_path)\n",
    "    \n",
    "    # Get credentials from environment variables\n",
    "    api_key = os.getenv(\"AZURE_OPENAI_API_KEY\")\n",
    "    api_version = os.getenv(\"AZURE_OPENAI_API_VERSION\", \"2023-07-01-preview\")\n",
    "    azure_endpoint = os.getenv(\"AZURE_OPENAI_ENDPOINT\")\n",
    "    deployment_name = os.getenv(\"AZURE_OPENAI_DEPLOYMENT\", \"gpt-4\")\n",
    "    \n",
    "    print(\"\\nCredentials loaded from .env file:\")\n",
    "    print(f\"API Version: {api_version}\")\n",
    "    print(f\"Endpoint: {azure_endpoint}\")\n",
    "    print(f\"Deployment: {deployment_name}\")\n",
    "    print(f\"API Key: {'Found' if api_key else 'Not found'}\")\n",
    "    \n",
    "    print(\"\\nSending request to Azure OpenAI API...\")\n",
    "    \n",
    "    # Initialize Azure OpenAI client\n",
    "    client = AzureOpenAI(\n",
    "        api_key=api_key,\n",
    "        api_version=api_version,\n",
    "        azure_endpoint=azure_endpoint\n",
    "    )\n",
    "    \n",
    "    # Make an API call\n",
    "\n",
    "    response = client.chat.completions.create(\n",
    "        messages=[\n",
    "            {\n",
    "                \"role\": \"system\",\n",
    "                \"content\": \"You are a helpful assistant.\",\n",
    "            },\n",
    "            {\n",
    "                \"role\": \"user\",\n",
    "                \"content\": \"Tell me a pun about Python developers?\",\n",
    "            }\n",
    "        ],\n",
    "        max_completion_tokens=800,\n",
    "        temperature=1.0,\n",
    "        top_p=1.0,\n",
    "        frequency_penalty=0.0,\n",
    "        presence_penalty=0.0,\n",
    "        model=deployment_name,\n",
    "    )\n",
    "\n",
    "    print(response.choices[0].message.content)\n",
    "    \n"
   ]
  },
  {
   "cell_type": "code",
   "execution_count": 40,
   "id": "82bef292",
   "metadata": {},
   "outputs": [
    {
     "name": "stdout",
     "output_type": "stream",
     "text": [
      "Azure OpenAI Integration Demo\n",
      "\n",
      "Credentials loaded from .env file:\n",
      "API Version: 2025-01-01-preview\n",
      "Endpoint: https://oai-sandbox-02-eastus2.openai.azure.com\n",
      "Deployment: gpt-4.1\n",
      "API Key: Found\n",
      "\n",
      "Sending request to Azure OpenAI API...\n",
      "Why do Python developers never get lost?\n",
      "\n",
      "Because they always know how to find their way with \"dir\"!\n"
     ]
    }
   ],
   "source": [
    "azure_openai_demo()"
   ]
  },
  {
   "cell_type": "markdown",
   "id": "013c53bb",
   "metadata": {},
   "source": [
    "#### Setup\n",
    "\n",
    "Use chat-ui accellerator:\n",
    "\n",
    "```bash\n",
    "azd init -t openai-chat-app-quickstart\n",
    "```\n",
    "\n",
    "\n",
    "#### Resources\n",
    "- [Azure OpenAI Chat App Quickstart](https://github.com/Azure-Samples/openai-chat-app-quickstart)\n",
    "- [Azure OpenAI Service Documentation](https://learn.microsoft.com/en-us/azure/ai-services/openai/)\n",
    "- [Quart Web Framework Documentation](https://quart.palletsprojects.com/)"
   ]
  },
  {
   "cell_type": "markdown",
   "id": "be94a019",
   "metadata": {},
   "source": [
    "## 14. Custom MCP Server Development\n",
    "\n",
    "### Creating Custom Model Context Protocol Servers"
   ]
  },
  {
   "cell_type": "markdown",
   "id": "bd9d1e9c",
   "metadata": {},
   "source": [
    "#### Setup\n",
    "\n",
    "\n",
    "```bash\n",
    "uv pip install mcp[cli] gitpython\n",
    "```\n",
    "\n",
    "#### Code sample\n",
    "\n",
    "```python\n",
    "\n",
    "# Initialize FastMCP server\n",
    "mcp = FastMCP(\"python-ai-course-mcp-server\")\n",
    "\n",
    "# this can be used to output logs\n",
    "server = Server(\"python-ai-course-mcp-server\")\n",
    "\n",
    "\n",
    "@mcp.tool()\n",
    "async def get_info() -> str:\n",
    "    \"\"\"Get information about this MCP server.\n",
    "    \n",
    "    Returns information about the purpose and capabilities of this demo MCP server.\n",
    "    \"\"\"\n",
    "    await server.request_context.session.send_log_message(\n",
    "      level=\"info\",\n",
    "      data=\"get_info started successfully\",\n",
    "    )\n",
    "\n",
    "    return (\n",
    "        \"This is a demo MCP server created using the MCP SDK.\\n\\n\"\n",
    "        \"It demonstrates how to create a simple MCP server with tools \"\n",
    "        \"that can be used by MCP clients like Claude Desktop and VSCode.\"\n",
    "    )\n",
    "\n",
    "@mcp.tool()\n",
    "async def get_greetings(name: str) -> str:\n",
    "    \"\"\"Get a personalized greeting.\n",
    "    \n",
    "    Args:\n",
    "        name: The name of the person to greet\n",
    "    \n",
    "    Returns a friendly greeting that includes the provided name.\n",
    "    \"\"\"\n",
    "    await server.request_context.session.send_log_message(\n",
    "      level=\"info\",\n",
    "      data=f\"get_greetings {name} started successfully\",\n",
    "    )\n",
    "\n",
    "    return f\"Hello, {name}! This is a demo MCP server.\n",
    "\n",
    "\n",
    "if __name__ == \"__main__\":\n",
    "    # Initialize and run the server\n",
    "    mcp.run(transport='stdio')\n",
    "```"
   ]
  },
  {
   "cell_type": "markdown",
   "id": "71fd16ec",
   "metadata": {},
   "source": [
    "### MCP Server configuration\n",
    "\n",
    "```json\n",
    " \"servers\": {\n",
    "      \"python-ai-course-mcp-server\": {\n",
    "            \"command\": \"uv\",\n",
    "            \"args\": [\n",
    "                \"--directory\",\n",
    "                \"C:\\\\Users\\\\arkadiusz.kajzerek\\\\_devel\\\\Bain\\\\PythonAITraining\\\\python-ai-course-mcp-server\",\n",
    "                \"run\",\n",
    "                \"main.py\"\n",
    "            ]\n",
    "        }      \n",
    "    }\n",
    "```"
   ]
  },
  {
   "cell_type": "markdown",
   "id": "dbf2cd6c",
   "metadata": {},
   "source": [
    "#### Key Features\n",
    "- Model Context Protocol (MCP) overview\n",
    "- Creating a basic MCP server with FastMCP\n",
    "- Implementing custom tools:\n",
    "  - get_info - parameterless tool\n",
    "  - get_greetings - tool with parameters\n",
    "- VS Code integration for MCP servers\n",
    "- Testing and verification\n",
    "\n",
    "#### Resources\n",
    "- [Model Context Protocol Specification](https://github.com/modelcontextprotocol/spec)\n",
    "- [MCP SDK Documentation](https://github.com/modelcontextprotocol/sdk)\n",
    "- [VS Code MCP Integration](https://code.visualstudio.com/docs/copilot/chat/mcp-servers)"
   ]
  },
  {
   "cell_type": "markdown",
   "id": "91a4054e",
   "metadata": {},
   "source": [
    "## 15. Workspace Analysis Tool\n",
    "\n",
    "### Building a Workspace Analysis Tool"
   ]
  },
  {
   "cell_type": "markdown",
   "id": "fdd8220b",
   "metadata": {},
   "source": [
    "```python\n",
    "\n",
    "@mcp.tool()\n",
    "async def get_workspace_info(workspace_folder: str) -> str:\n",
    "    \"\"\"Get information about a workspace folder.\n",
    "    \n",
    "    Args:\n",
    "        workspace_folder: Path to the workspace folder (can use ${workspaceFolder} in VS Code)\n",
    "    \n",
    "    Returns information about the files in the workspace, including counts and statistics.\n",
    "    \"\"\"\n",
    "\n",
    "    await server.request_context.session.send_log_message(\n",
    "      level=\"info\",\n",
    "      data=f\"get_workspace_info {workspace_folder} started successfully\",\n",
    "    )\n",
    "\n",
    "    try:\n",
    "        # Ensure the path exists\n",
    "        if not os.path.exists(workspace_folder):\n",
    "            return f\"Error: The path '{workspace_folder}' does not exist.\"\n",
    "        \n",
    "        if not os.path.isdir(workspace_folder):\n",
    "            return f\"Error: '{workspace_folder}' is not a directory.\"\n",
    "        \n",
    "        # Initialize statistics\n",
    "        stats = {\n",
    "            \"total_files\": 0,\n",
    "            \"total_directories\": 0,\n",
    "            \"file_types\": {},\n",
    "            \"total_size_bytes\": 0,\n",
    "            \"largest_files\": [],\n",
    "            \"newest_files\": []\n",
    "        }\n",
    "        \n",
    "    \n",
    "        return stats\n",
    "\n",
    "    except Exception as e:\n",
    "        return f\"Error analyzing workspace: {str(e)}\"\n",
    "\n",
    "```"
   ]
  },
  {
   "cell_type": "markdown",
   "id": "e5f46529",
   "metadata": {},
   "source": [
    "## 16. Git Integration for MCP\n",
    "\n",
    "### Git Repository Analysis with MCP"
   ]
  },
  {
   "cell_type": "markdown",
   "id": "0740165a",
   "metadata": {},
   "source": [
    "```python\n",
    "\n",
    "@mcp.tool()\n",
    "async def get_repo_info(repo_path: str) -> str:\n",
    "    \"\"\"Get basic information about a Git repository status.\n",
    "    \n",
    "    Args:\n",
    "        repo_path: Path to the Git repository (can use ${workspaceFolder} in VS Code)\n",
    "    \n",
    "    Returns basic Git repository status information.\n",
    "    \"\"\"\n",
    "    \n",
    "    try:\n",
    "        # Ensure the path exists\n",
    "        if not os.path.exists(repo_path):\n",
    "            return f\"Error: The path '{repo_path}' does not exist.\"\n",
    "        \n",
    "        # Open the repository using GitPython\n",
    "        try:\n",
    "            repo = git.Repo(repo_path)\n",
    "        except git.exc.InvalidGitRepositoryError:\n",
    "            return f\"Error: '{repo_path}' is not a Git repository.\"\n",
    "        \n",
    "        # Get basic repository information\n",
    "        result = []\n",
    "       \n",
    "        # actual code goes here...\n",
    "\n",
    "        return result\n",
    "    \n",
    "    except Exception as e:\n",
    "        return f\"Error: {str(e)}\"\n",
    "```"
   ]
  },
  {
   "cell_type": "markdown",
   "id": "4e6cd1bf",
   "metadata": {},
   "source": [
    "#### Claude Desktop Integration\n",
    "\n",
    "```json\n",
    "{\n",
    "    \"mcpServers\": {\n",
    "        \"python-ai-course-mcp-server\": {\n",
    "            \"command\": \"uv\",\n",
    "            \"args\": [\n",
    "                \"--directory\",\n",
    "                \"C:\\\\Users\\\\arkadiusz.kajzerek\\\\_devel\\\\Bain\\\\PythonAITraining\\\\python-ai-course-mcp-server\",\n",
    "                \"run\",\n",
    "                \"main.py\"\n",
    "            ]\n",
    "        },\n",
    "\t\t\"filesystem\": {\n",
    "\t\t\t  \"command\": \"npx\",\n",
    "\t\t\t  \"args\": [\n",
    "\t\t\t\t\"-y\",\n",
    "\t\t\t\t\"@modelcontextprotocol/server-filesystem\",\n",
    "\t\t\t\t\"C:\\\\Users\\\\arkadiusz.kajzerek\\\\_devel\\\\TrainingHub\"\n",
    "\t\t\t  ]\n",
    "\t\t}\t\n",
    "    }\n",
    "}\n",
    "    \n",
    "```\n"
   ]
  },
  {
   "cell_type": "markdown",
   "id": "45c989f9",
   "metadata": {},
   "source": [
    "#### Key Features\n",
    "- Git integration for development workflows\n",
    "- Implementing Git repository tools:\n",
    "  - get_repo_info - repository status tool\n",
    "  - get_diff - code difference analyzer\n",
    "- Using GitPython for repository operations\n",
    "- VS Code and Claude Desktop integration\n",
    "- Security and permission considerations\n",
    "\n",
    "#### Resources\n",
    "- [GitPython Documentation](https://gitpython.readthedocs.io/)\n",
    "- [Claude Desktop MCP Guide](https://docs.anthropic.com/claude/docs/model-context-protocol)\n",
    "- [VS Code MCP Integration](https://code.visualstudio.com/docs/copilot/chat/mcp-servers)"
   ]
  },
  {
   "cell_type": "markdown",
   "id": "0b3658eb",
   "metadata": {},
   "source": [
    "## 17. Conclusion\n",
    "\n",
    "### Putting It All Together\n",
    "\n",
    "- Recap of the learning journey\n",
    "- How these skills build upon each other:\n",
    "  - From basic setup to advanced AI integration\n",
    "  - From local development to cloud deployment\n",
    "- Real-world applications of the learned skills\n",
    "- Recommended learning paths for further development\n",
    "- Community resources and continuing education"
   ]
  }
 ],
 "metadata": {
  "kernelspec": {
   "display_name": ".venv",
   "language": "python",
   "name": "python3"
  },
  "language_info": {
   "codemirror_mode": {
    "name": "ipython",
    "version": 3
   },
   "file_extension": ".py",
   "mimetype": "text/x-python",
   "name": "python",
   "nbconvert_exporter": "python",
   "pygments_lexer": "ipython3",
   "version": "3.13.3"
  }
 },
 "nbformat": 4,
 "nbformat_minor": 5
}
